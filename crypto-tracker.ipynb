{
 "cells": [
  {
   "cell_type": "markdown",
   "id": "8e9e8353",
   "metadata": {},
   "source": [
    "# TODO:\n",
    "- Live price\n",
    "- Statistic for all cryptocurrencies\n",
    "- Load the user data from exchanges\n",
    "- Summary"
   ]
  },
  {
   "cell_type": "code",
   "execution_count": 18,
   "id": "cc109418",
   "metadata": {},
   "outputs": [
    {
     "data": {
      "text/plain": [
       "True"
      ]
     },
     "execution_count": 18,
     "metadata": {},
     "output_type": "execute_result"
    }
   ],
   "source": [
    "import pandas\n",
    "import requests\n",
    "import json\n",
    "import dotenv\n",
    "\n",
    "dotenv.load_dotenv()"
   ]
  },
  {
   "cell_type": "code",
   "execution_count": 19,
   "id": "db4fe6f2",
   "metadata": {},
   "outputs": [],
   "source": [
    "import os\n",
    "\n",
    "# TODO: Implement\n",
    "def get_current_price(crypto_ticker):\n",
    "    url = 'https://rest.coinapi.io/v1/exchangerate/BTC/EUR'\n",
    "    headers = {'X-CoinAPI-Key' : os.environ.get('COIN_API_KEY')}\n",
    "    response = requests.get(url, headers=headers)\n",
    "    response_dict = json.loads(response.text)\n",
    "    return 40000\n",
    "\n",
    "\n",
    "def get_summary_from_csv(df_buy, df_sell, column_keys, current_price):\n",
    "    total_amout = df_buy[column_keys['size']].sum() - df_sell[column_keys['size']].sum()\n",
    "    avg_price = df_buy[column_keys['price']].mean()\n",
    "\n",
    "    invested_buy = df_buy[column_keys['total']].sum()\n",
    "    invested = (-1 * invested_buy if invested_buy > 0 else invested_buy) - df_sell[column_keys['total']].sum()\n",
    "    current_value = current_price * total_amout\n",
    "    unrealized_profit = current_value + invested\n",
    "\n",
    "    return { 'total_amount': total_amout, 'avg_price': avg_price, 'transaction_count': len(df_buy.axes[0]),\n",
    "    'invested': invested, 'current_value': current_value, 'unrealized_profit': unrealized_profit }\n",
    "\n",
    "def print_result(result):\n",
    "    print(f\"Total amout is {result['total_amount']}.\")\n",
    "    print(f\"The average purchase price is {round(result['avg_price'])} EUR.\")\n",
    "    print(f\"Total invested: {round(result['invested'])} EUR.\")\n",
    "    print(f\"Portfolio value is {round(result['current_value'])} EUR.\")\n",
    "    print(f\"Unrealized profit is {round(result['unrealized_profit'])} EUR.\")\n",
    "\n",
    "def merge_results(result1, result2):\n",
    "    result = {}\n",
    "    for key in result1.keys():\n",
    "        if key == 'avg_price':\n",
    "            result1_weight = result1[key] * result1['transaction_count']\n",
    "            result2_weight = result2[key] * result2['transaction_count']\n",
    "            result[key] = (result1_weight + result2_weight) / (result1['transaction_count'] + result2['transaction_count'])\n",
    "        else:\n",
    "            result[key] = result1[key] + result2[key]\n",
    "    return result\n"
   ]
  },
  {
   "cell_type": "code",
   "execution_count": 20,
   "id": "f696bb73",
   "metadata": {},
   "outputs": [],
   "source": [
    "# Coinbase\n",
    "def get_coinbase_summary(current_price):\n",
    "    df_coinbase = pandas.read_csv('data/btc-coinbase.csv')\n",
    "    df_coinbase_buy = df_coinbase[df_coinbase['Transaction Type'] == 'Buy']\n",
    "    df_coinbase_sell = df_coinbase[df_coinbase['Transaction Type'] == 'Sell']\n",
    "    #print(df_coinbase_buy)\n",
    "    return get_summary_from_csv(df_buy=df_coinbase_buy, df_sell=df_coinbase_sell, column_keys={ 'size': 'Quantity Transacted', 'price': 'Spot Price at Transaction', 'total': 'Total (inclusive of fees)'  }, current_price=current_price)"
   ]
  },
  {
   "cell_type": "code",
   "execution_count": 21,
   "id": "b45a2bbd",
   "metadata": {},
   "outputs": [],
   "source": [
    "# Coinbase PRO\n",
    "def get_coinbase_pro_summary(current_price):\n",
    "    df = pandas.read_csv('data/btc-coinbase-pro.csv')\n",
    "    df_buy = df[df['side'] == 'BUY']\n",
    "    df_sell = df[df['side'] == 'SELL']\n",
    "    return get_summary_from_csv(df_buy, df_sell, { 'size': 'size', 'price': 'price', 'total': 'total' }, current_price)\n"
   ]
  },
  {
   "cell_type": "code",
   "execution_count": 22,
   "id": "1b5c2057",
   "metadata": {},
   "outputs": [
    {
     "name": "stdout",
     "output_type": "stream",
     "text": [
      "Total amout is 0.6785515.\n",
      "The average purchase price is 26581 EUR.\n",
      "Total invested: -10175 EUR.\n",
      "Portfolio value is 27142 EUR.\n",
      "Unrealized profit is 16967 EUR.\n"
     ]
    }
   ],
   "source": [
    "coinbase_pro_result = get_coinbase_pro_summary(get_current_price(''))\n",
    "coinbase_result = get_coinbase_summary(get_current_price(''))\n",
    "\n",
    "result = merge_results(coinbase_pro_result, coinbase_result)\n",
    "print_result(result)\n"
   ]
  }
 ],
 "metadata": {
  "kernelspec": {
   "display_name": "Python 3 (ipykernel)",
   "language": "python",
   "name": "python3"
  },
  "language_info": {
   "codemirror_mode": {
    "name": "ipython",
    "version": 3
   },
   "file_extension": ".py",
   "mimetype": "text/x-python",
   "name": "python",
   "nbconvert_exporter": "python",
   "pygments_lexer": "ipython3",
   "version": "3.9.10"
  }
 },
 "nbformat": 4,
 "nbformat_minor": 5
}
